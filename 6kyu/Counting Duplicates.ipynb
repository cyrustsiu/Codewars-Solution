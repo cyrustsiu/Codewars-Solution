def duplicate_count(text):
    myset = set()
    for t in text.lower():
        if text.lower().count(t) != 1:
            myset.add(t)
    return len(myset)
