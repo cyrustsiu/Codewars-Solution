def abbrevName(name):
    return ".".join([word[0].capitalize() for word in name.split()])